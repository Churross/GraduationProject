{
  "cells": [
    {
      "cell_type": "markdown",
      "source": [
        "## Connect to Google Drive"
      ],
      "metadata": {
        "id": "KX1dPyNyluLL"
      }
    },
    {
      "cell_type": "code",
      "execution_count": null,
      "metadata": {
        "id": "_8Fu_DqL9Z9W"
      },
      "outputs": [],
      "source": [
        "import os\n",
        "from google.colab import drive\n",
        "drive.mount('/drive/', force_remount=True)\n",
        "os.chdir('/drive/My Drive/Afstuderen/')"
      ]
    },
    {
      "cell_type": "code",
      "execution_count": null,
      "metadata": {
        "id": "Yr1sHfZp-Whg"
      },
      "outputs": [],
      "source": [
        "import scipy as sc\n",
        "import numpy as np\n",
        "import pandas as pd\n",
        "import datetime as dt\n",
        "import pandas_gbq\n",
        "import math"
      ]
    },
    {
      "cell_type": "markdown",
      "metadata": {
        "id": "DJiiTfiS-1FX"
      },
      "source": [
        "## Load data from drive"
      ]
    },
    {
      "cell_type": "code",
      "execution_count": null,
      "metadata": {
        "id": "1qmeEC3r-C_L"
      },
      "outputs": [],
      "source": [
        "# chexpert = pd.read_csv(\"./cxr/mimic-cxr-2.0.0-chexpert.csv\")\n",
        "metadata = pd.read_csv(\"./cxr/mimic-cxr-2.0.0-metadata.csv\")\n",
        "# negbio = pd.read_csv(\"./cxr/mimic-cxr-2.0.0-negbio.csv\")\n"
      ]
    },
    {
      "cell_type": "code",
      "execution_count": null,
      "metadata": {
        "id": "XGnSBE1gRY3c"
      },
      "outputs": [],
      "source": [
        "metadata.head()"
      ]
    },
    {
      "cell_type": "code",
      "source": [
        "chexpert.head()"
      ],
      "metadata": {
        "id": "EHWZr3toO1M9"
      },
      "execution_count": null,
      "outputs": []
    },
    {
      "cell_type": "code",
      "source": [
        "negbio.head()"
      ],
      "metadata": {
        "id": "PByVhvZaO9QY"
      },
      "execution_count": null,
      "outputs": []
    },
    {
      "cell_type": "markdown",
      "metadata": {
        "id": "8ZEAwmwc-3hG"
      },
      "source": [
        "## Connect to Bigquery"
      ]
    },
    {
      "cell_type": "code",
      "execution_count": null,
      "metadata": {
        "id": "Jg-dSFhL-5I7"
      },
      "outputs": [],
      "source": [
        "from google.cloud import bigquery\n",
        "%load_ext google.cloud.bigquery\n",
        "\n",
        "pandas_gbq.context.project = 'mimic-data-master-thesis'\n",
        "pandas_gbq.context.dialect = 'standard'"
      ]
    },
    {
      "cell_type": "code",
      "execution_count": null,
      "metadata": {
        "id": "b_qnSygEPwEW"
      },
      "outputs": [],
      "source": [
        "from google.colab import auth\n",
        "\n",
        "auth.authenticate_user()\n",
        "client = bigquery.Client(project='mimic-data-master-thesis')"
      ]
    },
    {
      "cell_type": "code",
      "execution_count": null,
      "metadata": {
        "id": "Quxh1twLxGy4"
      },
      "outputs": [],
      "source": [
        "first_subs = metadata['subject_id'].to_list()\n",
        "first_subs = list(dict.fromkeys(first_subs))\n",
        "\n",
        "len(first_subs)"
      ]
    },
    {
      "cell_type": "code",
      "execution_count": null,
      "metadata": {
        "id": "_oTwnlqBidLF"
      },
      "outputs": [],
      "source": [
        "# query_cap = 40\n",
        "query_cap = 10000"
      ]
    },
    {
      "cell_type": "code",
      "execution_count": null,
      "metadata": {
        "id": "T8IDwNZq-3U3"
      },
      "outputs": [],
      "source": [
        "query = '''\n",
        "SELECT \n",
        "       CE.subject_id, CE.hadm_id, CE.stay_id, CE.charttime, CE.storetime,\n",
        "       CE.itemid, CE.value, CE.valuenum, CE.valueuom, CE.warning, IT.label,\n",
        "       IT.abbreviation, IT.linksto, IT.category, IT.param_type, \n",
        "       IT.lownormalvalue, IT.highnormalvalue\n",
        "FROM \n",
        "  `physionet-data.mimic_icu.chartevents` AS CE\n",
        "INNER JOIN `physionet-data.mimic_icu.d_items` AS IT ON CE.itemid = IT.itemid\n",
        "INNER JOIN `physionet-data.mimic_ed.edstays` AS ED ON CE.subject_id = ED.subject_id AND CE.hadm_id = ED.hadm_id\n",
        "WHERE \n",
        "  CE.subject_id IN UNNEST(@subjects)\n",
        "  \n",
        "ORDER BY charttime, storetime, CE.subject_id, stay_id\n",
        "'''\n",
        "\n",
        "job_config = bigquery.QueryJobConfig(\n",
        "    query_parameters = [\n",
        "      bigquery.ArrayQueryParameter('subjects','NUMERIC', first_subs[0:query_cap] )\n",
        "    ]\n",
        ")\n",
        "\n",
        "query_job = client.query(query, job_config=job_config)\n",
        "\n",
        "query_job"
      ]
    },
    {
      "cell_type": "code",
      "source": [
        "query = '''\n",
        "SELECT \n",
        "       CE.subject_id, CE.hadm_id, CE.stay_id, CE.charttime, CE.storetime,\n",
        "       CE.itemid, CE.value, CE.valuenum, CE.valueuom, CE.warning, IT.label,\n",
        "       IT.abbreviation, IT.linksto, IT.category, IT.param_type, \n",
        "       IT.lownormalvalue, IT.highnormalvalue\n",
        "FROM \n",
        "  `physionet-data.mimic_icu.chartevents` AS CE\n",
        "INNER JOIN `physionet-data.mimic_icu.d_items` AS IT ON CE.itemid = IT.itemid\n",
        "INNER JOIN `physionet-data.mimic_ed.edstays` AS ED ON CE.subject_id = ED.subject_id AND CE.hadm_id = ED.hadm_id\n",
        "WHERE \n",
        "  CE.subject_id IN UNNEST(@subjects) AND CE.itemid IN (SELECT itemid FROM `physionet-data.mimic_icu.chartevents` GROUP BY itemid ORDER BY count(itemid) DESC LIMIT 20)\n",
        "  \n",
        "ORDER BY charttime, storetime, CE.subject_id, stay_id\n",
        "'''\n",
        "\n",
        "job_config = bigquery.QueryJobConfig(\n",
        "    query_parameters = [\n",
        "      bigquery.ArrayQueryParameter('subjects','NUMERIC', first_subs[0:query_cap] )\n",
        "    ]\n",
        ")\n",
        "\n",
        "query_job = client.query(query, job_config=job_config)\n",
        "\n",
        "query_job"
      ],
      "metadata": {
        "id": "vKfXurKRtS-w"
      },
      "execution_count": null,
      "outputs": []
    },
    {
      "cell_type": "code",
      "source": [
        "query = '''\n",
        "SELECT\n",
        "  CE.subject_id,\n",
        "  CE.hadm_id,\n",
        "  CE.stay_id,\n",
        "  CE.charttime,\n",
        "  CE.storetime,\n",
        "  CE.itemid,\n",
        "  CE.value,\n",
        "  CE.valuenum,\n",
        "  CE.valueuom,\n",
        "  CE.warning,\n",
        "  IT.label,\n",
        "  IT.abbreviation,\n",
        "  IT.linksto,\n",
        "  IT.category,\n",
        "  IT.param_type,\n",
        "  IT.lownormalvalue,\n",
        "  IT.highnormalvalue\n",
        "FROM\n",
        "  `physionet-data.mimic_icu.chartevents` AS CE\n",
        "INNER JOIN\n",
        "  `physionet-data.mimic_icu.d_items` AS IT\n",
        "ON\n",
        "  CE.itemid = IT.itemid\n",
        "INNER JOIN\n",
        "  `physionet-data.mimic_ed.edstays` AS ED\n",
        "ON\n",
        "  CE.subject_id = ED.subject_id\n",
        "  AND CE.hadm_id = ED.hadm_id\n",
        "WHERE\n",
        "  CE.hadm_id IN (\n",
        "  SELECT\n",
        "    hadm_id \n",
        "  FROM (\n",
        "    SELECT\n",
        "      hadm_id,\n",
        "      COUNT(itemid) AS cnt\n",
        "    FROM\n",
        "      `physionet-data.mimic_icu.chartevents`\n",
        "    WHERE\n",
        "      itemid IN (\n",
        "      SELECT\n",
        "        itemid\n",
        "      FROM\n",
        "        `physionet-data.mimic_icu.chartevents`\n",
        "      GROUP BY\n",
        "        itemid\n",
        "      ORDER BY\n",
        "        COUNT(itemid) DESC\n",
        "      LIMIT\n",
        "        20)\n",
        "    GROUP BY\n",
        "      hadm_id\n",
        "    ORDER BY\n",
        "      COUNT(itemid) DESC\n",
        "    LIMIT\n",
        "      10000)\n",
        "  WHERE\n",
        "    cnt > 3200\n",
        "    AND CNT <= 3600)\n",
        "ORDER BY\n",
        "  charttime,\n",
        "  storetime,\n",
        "  CE.subject_id,\n",
        "  stay_id\n",
        "'''\n",
        "\n",
        "job_config = bigquery.QueryJobConfig(\n",
        "    \n",
        ")\n",
        "\n",
        "query_job = client.query(query, job_config=job_config)\n",
        "\n",
        "query_job"
      ],
      "metadata": {
        "id": "hWeIDs7mKAHi"
      },
      "execution_count": null,
      "outputs": []
    },
    {
      "cell_type": "code",
      "source": [
        "query = '''\n",
        "SELECT\n",
        "  CE.subject_id,\n",
        "  CE.hadm_id,\n",
        "  CE.stay_id,\n",
        "  CE.charttime,\n",
        "  CE.storetime,\n",
        "  CE.itemid,\n",
        "  CE.value,\n",
        "  CE.valuenum,\n",
        "  CE.valueuom,\n",
        "  CE.warning,\n",
        "  IT.label,\n",
        "  IT.abbreviation,\n",
        "  IT.linksto,\n",
        "  IT.category,\n",
        "  IT.param_type,\n",
        "  IT.lownormalvalue,\n",
        "  IT.highnormalvalue\n",
        "FROM\n",
        "  `physionet-data.mimic_icu.chartevents` AS CE\n",
        "INNER JOIN\n",
        "  `physionet-data.mimic_icu.d_items` AS IT\n",
        "ON\n",
        "  CE.itemid = IT.itemid\n",
        "INNER JOIN\n",
        "  `physionet-data.mimic_ed.edstays` AS ED\n",
        "ON\n",
        "  CE.subject_id = ED.subject_id\n",
        "  AND CE.hadm_id = ED.hadm_id\n",
        "WHERE\n",
        "  CE.hadm_id IN (\n",
        "  SELECT\n",
        "    hadm_id\n",
        "  FROM (\n",
        "    SELECT\n",
        "      hadm_id,\n",
        "      COUNT(itemid) AS cnt\n",
        "    FROM\n",
        "      `physionet-data.mimic_icu.chartevents`\n",
        "    WHERE\n",
        "      itemid IN (\n",
        "      SELECT\n",
        "        itemid\n",
        "      FROM\n",
        "        `physionet-data.mimic_icu.chartevents`\n",
        "      GROUP BY\n",
        "        itemid\n",
        "      ORDER BY\n",
        "        COUNT(itemid) DESC\n",
        "      LIMIT\n",
        "        20)\n",
        "    GROUP BY\n",
        "      hadm_id\n",
        "    ORDER BY\n",
        "      COUNT(itemid) DESC )\n",
        "  LIMIT\n",
        "    4000 )\n",
        "  AND CE.itemid IN (\n",
        "  SELECT\n",
        "    itemid\n",
        "  FROM\n",
        "    `physionet-data.mimic_icu.chartevents`\n",
        "  GROUP BY\n",
        "    itemid\n",
        "  ORDER BY\n",
        "    COUNT(itemid) DESC\n",
        "  LIMIT\n",
        "    20)\n",
        "ORDER BY\n",
        "  charttime,\n",
        "  storetime,\n",
        "  CE.subject_id,\n",
        "  stay_id\n",
        "'''\n",
        "\n",
        "job_config = bigquery.QueryJobConfig(\n",
        "    \n",
        ")\n",
        "\n",
        "query_job = client.query(query, job_config=job_config)\n",
        "\n",
        "query_job"
      ],
      "metadata": {
        "id": "pZMKOszGJncn"
      },
      "execution_count": null,
      "outputs": []
    },
    {
      "cell_type": "code",
      "source": [
        "query = '''\n",
        "SELECT\n",
        "  CE.subject_id,\n",
        "  CE.hadm_id,\n",
        "  CE.charttime,\n",
        "  CE.value,\n",
        "  CE.valuenum,\n",
        "  CE.valueuom,\n",
        "  IT.label,\n",
        "  IT.category,\n",
        "  IT.param_type,\n",
        "FROM\n",
        "  `physionet-data.mimic_icu.chartevents` AS CE\n",
        "INNER JOIN\n",
        "  `physionet-data.mimic_icu.d_items` AS IT\n",
        "ON\n",
        "  CE.itemid = IT.itemid\n",
        "INNER JOIN\n",
        "  `physionet-data.mimic_ed.edstays` AS ED\n",
        "ON\n",
        "  CE.subject_id = ED.subject_id\n",
        "  AND CE.hadm_id = ED.hadm_id\n",
        "WHERE\n",
        "  CE.hadm_id IN (\n",
        "  SELECT\n",
        "    hadm_id\n",
        "  FROM (\n",
        "    SELECT\n",
        "      hadm_id,\n",
        "      COUNT(itemid) AS cnt\n",
        "    FROM\n",
        "      `physionet-data.mimic_icu.chartevents`\n",
        "    WHERE\n",
        "      itemid IN (\n",
        "      SELECT\n",
        "        itemid\n",
        "      FROM\n",
        "        `physionet-data.mimic_icu.chartevents`\n",
        "      GROUP BY\n",
        "        itemid\n",
        "      ORDER BY\n",
        "        COUNT(itemid) DESC\n",
        "      LIMIT\n",
        "        20)\n",
        "    GROUP BY\n",
        "      hadm_id\n",
        "    ORDER BY\n",
        "      COUNT(itemid) DESC )\n",
        "    LIMIT 10000 )\n",
        "  AND CE.itemid IN (\n",
        "  SELECT\n",
        "    itemid\n",
        "  FROM\n",
        "    `physionet-data.mimic_icu.chartevents`\n",
        "  GROUP BY\n",
        "    itemid\n",
        "  ORDER BY\n",
        "    COUNT(itemid) DESC\n",
        "  LIMIT\n",
        "    20)\n",
        "    ORDER BY\n",
        "  charttime,\n",
        "  storetime,\n",
        "  CE.subject_id\n",
        "\n",
        "'''"
      ],
      "metadata": {
        "id": "JDadEaDSDqVm"
      },
      "execution_count": null,
      "outputs": []
    },
    {
      "cell_type": "code",
      "source": [
        "query = '''\n",
        "SELECT\n",
        "  CE.subject_id,\n",
        "  CE.hadm_id,\n",
        "  CE.charttime,\n",
        "  CE.value,\n",
        "  CE.valuenum,\n",
        "  CE.valueuom,\n",
        "  IT.label,\n",
        "  IT.category,\n",
        "  IT.param_type,\n",
        "FROM\n",
        "  `physionet-data.mimic_icu.chartevents` AS CE\n",
        "INNER JOIN\n",
        "  `physionet-data.mimic_icu.d_items` AS IT\n",
        "ON\n",
        "  CE.itemid = IT.itemid\n",
        "WHERE\n",
        "  CE.hadm_id IN (\n",
        "  SELECT\n",
        "    hadm_id\n",
        "  FROM (\n",
        "    SELECT\n",
        "      hadm_id,\n",
        "      COUNT(itemid) AS cnt\n",
        "    FROM\n",
        "      `physionet-data.mimic_icu.chartevents`\n",
        "    WHERE\n",
        "      itemid IN (\n",
        "      SELECT\n",
        "        itemid\n",
        "      FROM\n",
        "        `physionet-data.mimic_icu.chartevents`\n",
        "      GROUP BY\n",
        "        itemid\n",
        "      ORDER BY\n",
        "        COUNT(itemid) DESC\n",
        "      LIMIT\n",
        "        20)\n",
        "    GROUP BY\n",
        "      hadm_id\n",
        "    ORDER BY\n",
        "      COUNT(itemid) DESC )\n",
        "    LIMIT 5000 )\n",
        "  AND CE.itemid IN (\n",
        "  SELECT\n",
        "    itemid\n",
        "  FROM\n",
        "    `physionet-data.mimic_icu.chartevents`\n",
        "  GROUP BY\n",
        "    itemid\n",
        "  ORDER BY\n",
        "    COUNT(itemid) DESC\n",
        "  LIMIT\n",
        "    20)\n",
        "    ORDER BY\n",
        "  charttime,\n",
        "  storetime,\n",
        "  CE.subject_id\n",
        "\n",
        "\n",
        "'''"
      ],
      "metadata": {
        "id": "IotZEifTNeX5"
      },
      "execution_count": null,
      "outputs": []
    },
    {
      "cell_type": "code",
      "source": [
        "job_config = bigquery.QueryJobConfig()\n",
        "\n",
        "query_job = client.query(query, job_config=job_config)\n",
        "\n",
        "query_job"
      ],
      "metadata": {
        "id": "aQkd21j3NYtt"
      },
      "execution_count": null,
      "outputs": []
    },
    {
      "cell_type": "code",
      "execution_count": null,
      "metadata": {
        "id": "N06fRN7U3Ku7"
      },
      "outputs": [],
      "source": [
        "results = query_job.result().to_dataframe(progress_bar_type='tqdm')\n",
        "results"
      ]
    },
    {
      "cell_type": "markdown",
      "metadata": {
        "id": "b68VHxu5x8nr"
      },
      "source": [
        "### Store data as CSV"
      ]
    },
    {
      "cell_type": "code",
      "source": [
        "results.to_csv('icu_data_5000.csv', index=False)"
      ],
      "metadata": {
        "id": "I7uSLeejrOsZ"
      },
      "execution_count": null,
      "outputs": []
    },
    {
      "cell_type": "code",
      "source": [
        "\u0019results.to_csv(f'first_{query_cap}_patients.csv', index=False)"
      ],
      "metadata": {
        "id": "3DOYmk9BzMW5"
      },
      "execution_count": null,
      "outputs": []
    },
    {
      "cell_type": "markdown",
      "source": [
        "## Check data"
      ],
      "metadata": {
        "id": "sTuVhF0FBEcC"
      }
    },
    {
      "cell_type": "code",
      "source": [
        "len(list(results['hadm_id'].unique()))"
      ],
      "metadata": {
        "id": "TDBU3oyiBDsb"
      },
      "execution_count": null,
      "outputs": []
    },
    {
      "cell_type": "markdown",
      "metadata": {
        "id": "jnU2kgfYx_Z0"
      },
      "source": [
        "### Load raw data as CSV"
      ]
    },
    {
      "cell_type": "code",
      "execution_count": null,
      "metadata": {
        "id": "XWM2UWMrB4Xz"
      },
      "outputs": [],
      "source": [
        "results = pd.read_csv('first_6000_patients.csv', index_col=0)\n",
        "results.head()"
      ]
    },
    {
      "cell_type": "markdown",
      "metadata": {
        "id": "b8sxws14yaqv"
      },
      "source": [
        "### Get number of unique labels in ICU"
      ]
    },
    {
      "cell_type": "code",
      "execution_count": null,
      "metadata": {
        "id": "cy9y_5NJkfVf"
      },
      "outputs": [],
      "source": [
        "measurements = results['label'].values.ravel()\n",
        "unique_measurements = pd.unique(measurements)\n",
        "len(unique_measurements)"
      ]
    },
    {
      "cell_type": "code",
      "execution_count": null,
      "metadata": {
        "id": "Xc9qzX9VvHKO"
      },
      "outputs": [],
      "source": [
        "selected_patients = []\n",
        "for i in first_subs[0:query_cap]:\n",
        "  res = len(results[results['subject_id'] == i])\n",
        "  if (res > 0):\n",
        "    selected_patients.append(i)"
      ]
    },
    {
      "cell_type": "markdown",
      "metadata": {
        "id": "i5dutQVpyhCD"
      },
      "source": [
        "### Identify stays per patient"
      ]
    },
    {
      "cell_type": "code",
      "execution_count": null,
      "metadata": {
        "id": "wViXWbM-ni1_"
      },
      "outputs": [],
      "source": [
        "num_seq = 0 \n",
        "max_seq = 0\n",
        "min_seq = 10000000\n",
        "min_stay_duration = dt.timedelta(100000, 0, 0)\n",
        "max_stay_duration = dt.timedelta(0,0,0)\n",
        "max_stay_duration_id = 0\n",
        "min_stay_duration_id = 0 \n",
        "total_stay_duration = 0\n",
        "min_stay_duration_id = 0\n",
        "max_stay_duration_id = 0\n",
        "all_stays = []\n",
        "\n",
        "\n",
        "for patient in selected_patients:\n",
        "  stays = results[results['subject_id'] == patient]\n",
        "  stays_ids = stays['stay_id'].values.ravel()\n",
        "  unique_stays = pd.unique(stays_ids)\n",
        "  min_stay = dt.timedelta(100000, 0, 0)\n",
        "  max_stay = dt.timedelta(0,0,0)\n",
        "  begin_stay = dt.datetime.now()\n",
        "  end_stay = dt.datetime.now()\n",
        "  \n",
        "  print(f'Unique stays for patient {patient}: {len(unique_stays)}')\n",
        "\n",
        "  for stay in unique_stays:\n",
        "    all_stays.append(stay)\n",
        "    stay_records = results[results['stay_id'] == stay]\n",
        "    num_records = len(stay_records)\n",
        "    begin_stay = stay_records['charttime'].min()\n",
        "    end_stay = stay_records['charttime'].max()\n",
        "    duration = end_stay - begin_stay\n",
        "    print(f'  - #records for stay {stay}: {num_records}, stay from {begin_stay} till {end_stay}, duration: {duration}')\n",
        "\n",
        "    max_stay_duration_id = stay if duration > max_stay_duration else max_stay_duration_id\n",
        "    min_stay_duration_id = stay if duration < min_stay_duration else min_stay_duration_id\n",
        "    max_stay_duration = duration if duration > max_stay_duration else max_stay_duration\n",
        "    min_stay_duration = duration if duration < min_stay_duration else min_stay_duration\n",
        "    \n",
        "    max_seq = num_records if num_records > max_seq else max_seq\n",
        "    min_seq = num_records if num_records < min_seq else min_seq\n",
        "\n",
        "  if len(unique_stays) > 1:\n",
        "    total_rec = len(results[results['subject_id'] == patient])\n",
        "    print('  ---------------------------------------')\n",
        "    print(f'  Total #records: {total_rec}')\n",
        "\n",
        "  num_seq += len(unique_stays)\n",
        "\n",
        "  print()\n",
        "\n",
        "print(f'Max sequence length: {max_seq}')\n",
        "print(f'Min sequence length: {min_seq}')\n",
        "print(f'Average sequence length: {len(results) / num_seq}')\n",
        "print(f'Total number of sequences: {num_seq}')\n",
        "print(f'Average number of sequences per patient: {num_seq / len(selected_patients)}')\n",
        "print(f'Min duration: {min_stay_duration} for stay: {min_stay_duration_id}')\n",
        "print(f'Max duration: {max_stay_duration} for stay: {max_stay_duration_id}')"
      ]
    },
    {
      "cell_type": "markdown",
      "metadata": {
        "id": "wq918Rw_uE4B"
      },
      "source": [
        "## Link stays with scans"
      ]
    },
    {
      "cell_type": "markdown",
      "metadata": {
        "id": "o3wlMuOcI3id"
      },
      "source": [
        "### Add charttime to metadata"
      ]
    },
    {
      "cell_type": "code",
      "execution_count": null,
      "metadata": {
        "id": "hRFyjKawINp-"
      },
      "outputs": [],
      "source": [
        "metadata['charttime'] = pd.to_datetime(metadata['StudyDate'], format='%Y%m%d')\n",
        "metadata = metadata.drop(columns=['Rows', 'Columns'])"
      ]
    },
    {
      "cell_type": "markdown",
      "metadata": {
        "id": "AQNBzW1aJH-l"
      },
      "source": [
        "### Find the stays per patient for each scan"
      ]
    },
    {
      "cell_type": "code",
      "execution_count": null,
      "metadata": {
        "id": "ynOTcD-R-Vmk"
      },
      "outputs": [],
      "source": [
        "# Fetch all stays in the ED followed by an ICU\n",
        "def get_stays(subject_id):\n",
        "  query = f'SELECT * FROM `physionet-data.mimic_core.transfers` WHERE subject_id = {subject_id} AND (careunit LIKE \"%ICU%\" OR careunit LIKE \"%Emergency Department%\" OR careunit IS null) ORDER BY intime, outtime'\n",
        "  return client.query(query).result().to_dataframe()"
      ]
    },
    {
      "cell_type": "code",
      "execution_count": null,
      "metadata": {
        "id": "nJTPMwg79KhK"
      },
      "outputs": [],
      "source": [
        "photo_stays = []\n",
        "for patient in selected_patients:\n",
        "  images = metadata[metadata['subject_id'] == patient]\n",
        "  \n",
        "  patient_stays = get_stays(patient)\n",
        "  patient_photo_stays = {\n",
        "      \"patient\": patient,\n",
        "      \"scans\": []\n",
        "  };\n",
        "\n",
        "  for image_index, image in images.iterrows():\n",
        "    stay = 0;\n",
        "    for index, event in patient_stays.iterrows():\n",
        "      if event.eventtype == 'ED' and event.intime.date() <= image.charttime.date() and event.outtime.date() >= image.charttime.date() and not event.hadm_id is None:\n",
        "        stay = event.hadm_id\n",
        "      elif event.eventtype == 'discharge':\n",
        "        stay = 0\n",
        "      elif 'ICU' in str(event.careunit) and not (stay == 0 or math.isnan(stay)):\n",
        "        patient_photo_stays['scans'].append({\n",
        "            \"scan\" : image.study_id,\n",
        "            \"stay\": stay\n",
        "        });\n",
        "        break\n",
        "  photo_stays.append(patient_photo_stays)"
      ]
    },
    {
      "cell_type": "markdown",
      "metadata": {
        "id": "YrcjZUaN9eBe"
      },
      "source": [
        "### Transform photo stay data to DataFrame and store as CSV"
      ]
    },
    {
      "cell_type": "code",
      "execution_count": null,
      "metadata": {
        "id": "eIZoqpK9Ta4f"
      },
      "outputs": [],
      "source": [
        "patient_scans_df = pd.DataFrame.from_dict(photo_stays, orient=\"columns\")\n",
        "patient_scans_df.to_csv('patient_scans.csv')"
      ]
    },
    {
      "cell_type": "markdown",
      "metadata": {
        "id": "2meHeOts-gXU"
      },
      "source": [
        "### Load photo stay data from CSV"
      ]
    },
    {
      "cell_type": "code",
      "execution_count": null,
      "metadata": {
        "id": "HgNKGEqD-p7B"
      },
      "outputs": [],
      "source": [
        "patient_scans_df = pd.read_csv(\"patient_scans.csv\", index_col=0)\n",
        "patient_scans_df.head()\n",
        "\n",
        "photo_stays = {}\n",
        "photo_stays = patient_scans_df.values.tolist()"
      ]
    },
    {
      "cell_type": "code",
      "execution_count": null,
      "metadata": {
        "id": "K8rLPHpPUTqD"
      },
      "outputs": [],
      "source": [
        "import ast\n",
        "\n",
        "# Get all hospital stays from\n",
        "hospital_stays = []\n",
        "scan_id = []\n",
        "\n",
        "for patient in photo_stays:\n",
        "  for scan in ast.literal_eval(patient[1]):\n",
        "    hospital_stays.append(scan['stay'])\n",
        "    scan_id.append(scan['scan'])\n",
        "  \n",
        " \n",
        " \n",
        "# for patient in photo_stays:\n",
        "#   for scan in patient['scans']:\n",
        "#     scan_id.append(scan['scan'])\n",
        "#     hospital_stays.append(scan['stay'])\n",
        "\n",
        "hospital_stays = list(dict.fromkeys(hospital_stays))\n",
        "scan_id = list(dict.fromkeys(scan_id))"
      ]
    },
    {
      "cell_type": "markdown",
      "metadata": {
        "id": "R4ejOWXzIyip"
      },
      "source": [
        "# Create final Dataset"
      ]
    },
    {
      "cell_type": "code",
      "execution_count": null,
      "metadata": {
        "id": "B0ECxTh_PyQb"
      },
      "outputs": [],
      "source": [
        "# Get all complete stays for the selected patients \n",
        "query = '''\n",
        "SELECT\n",
        "  *\n",
        "FROM\n",
        "  `physionet-data.mimic_core.transfers`\n",
        "WHERE\n",
        "  hadm_id IN UNNEST(@subjects) \n",
        "ORDER BY\n",
        "  intime,\n",
        "  hadm_id\n",
        "'''\n",
        "\n",
        "job_config = bigquery.QueryJobConfig(\n",
        "    query_parameters = [\n",
        "      bigquery.ArrayQueryParameter('subjects', 'NUMERIC', results['hadm_id'].to_numpy())\n",
        "    ]\n",
        ")\n",
        "# job_config = bigquery.QueryJobConfig(\n",
        "#     query_parameters = [\n",
        "#       bigquery.ArrayQueryParameter('subjects', 'NUMERIC', results['hadm_id'].to_numpy() )\n",
        "#     ]\n",
        "# )\n",
        "all_stays = client.query(query, job_config=job_config).result().to_dataframe()\n",
        "all_stays"
      ]
    },
    {
      "cell_type": "markdown",
      "metadata": {
        "id": "blYkDK5oCn9_"
      },
      "source": [
        "### Store all stays as CSV"
      ]
    },
    {
      "cell_type": "code",
      "execution_count": null,
      "metadata": {
        "id": "pLobJrSlYXla"
      },
      "outputs": [],
      "source": [
        "all_stays.to_csv(\"all_stays.csv\", index=False)"
      ]
    },
    {
      "cell_type": "markdown",
      "metadata": {
        "id": "PgeZICcNCrbG"
      },
      "source": [
        "### Read all stays from CSV"
      ]
    },
    {
      "cell_type": "code",
      "execution_count": null,
      "metadata": {
        "id": "oL7DApUKCt9q"
      },
      "outputs": [],
      "source": [
        "all_stays = pd.read_csv(\"all_stays.csv\", index_col=0)"
      ]
    },
    {
      "cell_type": "markdown",
      "metadata": {
        "id": "hOpuYHaATsPr"
      },
      "source": [
        "## Concatenate all datasets"
      ]
    },
    {
      "cell_type": "code",
      "execution_count": null,
      "metadata": {
        "id": "lOOH9u1CST1p"
      },
      "outputs": [],
      "source": [
        "all_stays['charttime'] = pd.to_datetime(all_stays['intime'])\n",
        "results['charttime'] = pd.to_datetime(results['charttime'], format='%Y-%m-%d')"
      ]
    },
    {
      "cell_type": "code",
      "execution_count": null,
      "metadata": {
        "id": "y43MrAbSROwQ"
      },
      "outputs": [],
      "source": [
        "ed_icu = pd.concat([metadata[metadata['study_id'].isin(scan_id)], results])"
      ]
    },
    {
      "cell_type": "code",
      "execution_count": null,
      "metadata": {
        "id": "1y3FB2ycSumM"
      },
      "outputs": [],
      "source": [
        "admission_ed_icu = pd.concat([ed_icu, all_stays])"
      ]
    },
    {
      "cell_type": "code",
      "execution_count": null,
      "metadata": {
        "id": "EE43rOmnOJWt"
      },
      "outputs": [],
      "source": [
        "for col in admission_ed_icu.columns:\n",
        "    print(col)"
      ]
    },
    {
      "cell_type": "code",
      "execution_count": null,
      "metadata": {
        "id": "qODwWnE8TBaj"
      },
      "outputs": [],
      "source": [
        "admission_ed_icu.sort_values(by=\"charttime\")"
      ]
    },
    {
      "cell_type": "code",
      "execution_count": null,
      "metadata": {
        "id": "2_EohogLffR-"
      },
      "outputs": [],
      "source": [
        "admission_ed_icu.to_csv('complete_data_v1.7.csv')"
      ]
    },
    {
      "cell_type": "code",
      "execution_count": null,
      "metadata": {
        "id": "R1I-MFBjOi04"
      },
      "outputs": [],
      "source": [
        "full_data = pd.read_csv('complete_data_v1.7.csv')"
      ]
    },
    {
      "cell_type": "markdown",
      "metadata": {
        "id": "JiSEwPHciUM2"
      },
      "source": [
        "# Create subset for development purposes"
      ]
    },
    {
      "cell_type": "code",
      "execution_count": null,
      "metadata": {
        "id": "5UNq2kOPiX_M"
      },
      "outputs": [],
      "source": []
    },
    {
      "cell_type": "markdown",
      "metadata": {
        "id": "uLwqySShRF9w"
      },
      "source": [
        "# Obtain metadata"
      ]
    },
    {
      "cell_type": "code",
      "execution_count": null,
      "metadata": {
        "id": "jZLnpWVkgLQN"
      },
      "outputs": [],
      "source": [
        "admissions['stay_duration'] =  admissions['dischtime'] - admissions['admittime']\n",
        "admissions.describe()"
      ]
    },
    {
      "cell_type": "code",
      "execution_count": null,
      "metadata": {
        "id": "DP008okWDO5z"
      },
      "outputs": [],
      "source": [
        "data = pd.read_csv('complete_data_v1.csv')"
      ]
    },
    {
      "cell_type": "code",
      "execution_count": null,
      "metadata": {
        "id": "BJMzLwCvD1Im"
      },
      "outputs": [],
      "source": [
        "for col in data.columns:\n",
        "    print(col)"
      ]
    },
    {
      "cell_type": "code",
      "execution_count": null,
      "metadata": {
        "id": "Z_xZ3U8lPcZM"
      },
      "outputs": [],
      "source": [
        "for col in metadata.columns:\n",
        "  print(col)\n",
        "\n",
        "print(\"\\n ------- \\n\")\n",
        "\n",
        "for col in results.columns:\n",
        "  print(col)\n",
        "\n",
        "print(\"\\n ------- \\n\")\n",
        "\n",
        "for col in all_stays.columns:\n",
        "  print(col)"
      ]
    },
    {
      "cell_type": "code",
      "execution_count": null,
      "metadata": {
        "id": "pMdDv6aBPoLR"
      },
      "outputs": [],
      "source": [
        "selected_patient_scans = metadata[metadata['study_id'].isin(scan_id)]"
      ]
    },
    {
      "cell_type": "code",
      "source": [
        "print(f'# Photos per patient: {selected_patient_scans.groupby([\"study_id\"]).size()}')\n",
        "print(f'Avg. # photos per patient: {selected_patient_scans.groupby([\"study_id\"]).size().mean()}')\n",
        "\n"
      ],
      "metadata": {
        "id": "94hyie3ckYfk"
      },
      "execution_count": null,
      "outputs": []
    },
    {
      "cell_type": "code",
      "source": [],
      "metadata": {
        "id": "f_K8W4bYrqrI"
      },
      "execution_count": null,
      "outputs": []
    },
    {
      "cell_type": "code",
      "source": [
        "len(selected_patient_scans)"
      ],
      "metadata": {
        "id": "VLSEv9rxkcgb"
      },
      "execution_count": null,
      "outputs": []
    },
    {
      "cell_type": "code",
      "source": [
        "all_stays.groupby(['subject_id']).size()"
      ],
      "metadata": {
        "id": "_LbBAFbIsQfl"
      },
      "execution_count": null,
      "outputs": []
    },
    {
      "cell_type": "code",
      "source": [],
      "metadata": {
        "id": "Iv4mBcdpsqvb"
      },
      "execution_count": null,
      "outputs": []
    }
  ],
  "metadata": {
    "colab": {
      "provenance": []
    },
    "kernelspec": {
      "display_name": "Python 3",
      "name": "python3"
    },
    "language_info": {
      "name": "python"
    }
  },
  "nbformat": 4,
  "nbformat_minor": 0
}