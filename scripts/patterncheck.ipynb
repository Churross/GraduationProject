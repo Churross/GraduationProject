{
 "cells": [
  {
   "attachments": {},
   "cell_type": "markdown",
   "metadata": {},
   "source": [
    "# Frequent pattern check"
   ]
  },
  {
   "cell_type": "code",
   "execution_count": 24,
   "metadata": {},
   "outputs": [],
   "source": [
    "import copy\n",
    "import pickle\n",
    "import math\n",
    "import numpy as np\n",
    "from tqdm import tqdm\n",
    "import pandas as pd\n",
    "from spmf import Spmf\n",
    "import scipy.cluster.hierarchy as shc\n",
    "\n",
    "\n",
    "\n"
   ]
  },
  {
   "cell_type": "code",
   "execution_count": 2,
   "metadata": {},
   "outputs": [],
   "source": [
    "def get_data(file_name):\n",
    "    return pickle.load(open(file_name, 'rb'))"
   ]
  },
  {
   "cell_type": "code",
   "execution_count": 3,
   "metadata": {},
   "outputs": [],
   "source": [
    "def get_all_levels(dend):\n",
    "    branch_depths = [-1]\n",
    "    branch_depths.extend(list(set([d[1] for d in dend['dcoord']])))\n",
    "    branch_depths.sort()\n",
    "    return branch_depths\n"
   ]
  },
  {
   "cell_type": "code",
   "execution_count": 10,
   "metadata": {},
   "outputs": [],
   "source": [
    "def get_frequent_patterns(input: list = [], min_sup: float = 0.4, max_gap: int = 1, max_pat_length=\"\"):\n",
    "    spmf = Spmf(\"VMSP\", input_direct=input,\n",
    "                input_type=\"text\",\n",
    "                output_filename=\"output.txt\", spmf_bin_location_dir=\"/Users/youri/Downloads\",\n",
    "                arguments=[min_sup, max_pat_length, str(max_gap)])\n",
    "    spmf.run()\n",
    "    return spmf.to_pandas_dataframe()\n"
   ]
  },
  {
   "cell_type": "code",
   "execution_count": 4,
   "metadata": {},
   "outputs": [
    {
     "name": "stdout",
     "output_type": "stream",
     "text": [
      "Loading data\n",
      "[INFO] Loading labels\n",
      "[INFO] Loading distance matrix\n",
      "[INFO] Loading links\n",
      "[INFO] Loading stays\n",
      "[INFO] Loading events\n",
      "[INFO] Loading clusters\n",
      "[INFO] Data loaded\n",
      "[INFO] Calculating dendrogram\n",
      "[INFO] Dendrogram calculated\n",
      "[INFO] Sequences ready\n"
     ]
    },
    {
     "data": {
      "image/png": "[encoded data removed]",
      "text/plain": [
       "<Figure size 640x480 with 1 Axes>"
      ]
     },
     "metadata": {},
     "output_type": "display_data"
    }
   ],
   "source": [
    "file_suffix = \"_test\"\n",
    "# file_suffix = \"_1000\"\n",
    "\n",
    "\n",
    "\n",
    "MIN_PATTERN_LENGTH = 2\n",
    "SEGMENT_SIZE = 4000\n",
    "# FIRST_PERCENTILE = 2183\n",
    "FIRST_PERCENTILE = 8000\n",
    "sequence_to_split_pattern_lookup = []\n",
    "PATTERN_OUTPUT = f\"patterns/pattern-{file_suffix[1:]}/\"\n",
    "# PATTERN_OUTPUT = f\"patterns/pattern-10/\"\n",
    "\n",
    "print('Loading data')\n",
    "print('[INFO] Loading labels')\n",
    "if 'test' in file_suffix:\n",
    "    labels = get_data('../scripts/output/labels' + file_suffix)\n",
    "else:\n",
    "    labels = get_data('../scripts/output/labels')\n",
    "print('[INFO] Loading distance matrix')\n",
    "distances = get_data('../scripts/output/dist_matrix' + file_suffix)\n",
    "print('[INFO] Loading links')\n",
    "links = get_data('../scripts/output/links' + file_suffix)\n",
    "print('[INFO] Loading stays')\n",
    "stays = get_data('../scripts/output/stays' + file_suffix)\n",
    "print('[INFO] Loading events')\n",
    "events = get_data('../scripts/output/events' + file_suffix)\n",
    "print('[INFO] Loading clusters')\n",
    "clusters = get_data('../scripts/output/alignments' + file_suffix)\n",
    "print('[INFO] Data loaded')\n",
    "\n",
    "print('[INFO] Calculating dendrogram')\n",
    "dend = shc.dendrogram(links, labels=stays, leaf_rotation=-90)\n",
    "print('[INFO] Dendrogram calculated')\n",
    "\n",
    "sequences = []\n",
    "for stay in stays:\n",
    "    e = events[events['hadm_id'] == stay]\n",
    "    sequences.append(''.join(list(e['event_encoded'])))\n",
    "print('[INFO] Sequences ready')\n",
    "\n",
    "patterns = pd.DataFrame(columns=['pattern', 'sup', 'encoding'])\n",
    "levels = get_all_levels(dend)\n",
    "indices = [dend['ivl'].index(i) for i in stays]\n"
   ]
  },
  {
   "cell_type": "code",
   "execution_count": 5,
   "metadata": {},
   "outputs": [],
   "source": [
    "\n",
    "def sort_by_indexes(list_data, indexes, reverse=False):\n",
    "    return [val for (_, val) in sorted(zip(indexes, list_data), key=lambda x:\n",
    "            x[0], reverse=reverse)]\n",
    "    \n",
    "for i in range(len(clusters)):\n",
    "    clusters[i] = sort_by_indexes(clusters[i], indices)\n",
    "\n",
    "stays_original = stays\n",
    "\n",
    "stays = sort_by_indexes(copy.deepcopy(stays), indices)\n"
   ]
  },
  {
   "cell_type": "code",
   "execution_count": 6,
   "metadata": {},
   "outputs": [],
   "source": [
    "def get_closest_cluster_level(level):\n",
    "    keys = copy.deepcopy(levels)\n",
    "    keys.pop(-1)\n",
    "\n",
    "    cluster_level = 0\n",
    "    level = float(level)\n",
    "\n",
    "    if level == 1:\n",
    "        cluster_level = 1.0\n",
    "    else:\n",
    "        for clustered_level in keys:\n",
    "            if (level >= cluster_level and level < clustered_level):\n",
    "                break\n",
    "            else:\n",
    "                cluster_level = clustered_level\n",
    "\n",
    "    return cluster_level\n",
    "\n",
    "def find_clustered_events(input_level):\n",
    "    cluster_level = get_closest_cluster_level(input_level)\n",
    "    level = levels.index(cluster_level)\n",
    "    cluster_row = copy.deepcopy(clusters[level])\n",
    "    alignment_levels = list(dict.fromkeys(cluster_row))\n",
    "\n",
    "    alignment_data = {}\n",
    "    for alignment_level in [i for i in alignment_levels if not i == -1]:\n",
    "        file_param = alignment_level.split(\"-\")\n",
    "        # alignment_data[alignment_level] = get_data(\n",
    "        #     f'../scripts/output/stays-10/alignments/alignment-info-10-level-{file_param[0]}-count-{file_param[1]}.p')\n",
    "        alignment_data[alignment_level] = get_data(\n",
    "            f'../scripts/output/stays-{file_suffix[1:]}/alignments/alignment-info-{file_suffix[1:]}-level-{file_param[0]}-count-{file_param[1]}.p')\n",
    "        alignment_data[alignment_level]['aggregated'] = True\n",
    "        for aligned_sequence in alignment_data[alignment_level]['alignment']:\n",
    "            aligned_sequence['sequence'] = \"\".join(\n",
    "                aligned_sequence['sequence'])\n",
    "\n",
    "    cluster_data = []\n",
    "    for index, clust in enumerate(cluster_row):\n",
    "        if clust == -1:\n",
    "            # return sequence data\n",
    "            cluster_data.append({\n",
    "                'stays': [int(stays[index])],\n",
    "                'sequence': sequences[index],\n",
    "                'aggregated': False\n",
    "            })\n",
    "        else:\n",
    "            if not alignment_data[clust] in cluster_data:\n",
    "                cluster_data.append(alignment_data[clust])\n",
    "\n",
    "    return cluster_data"
   ]
  },
  {
   "cell_type": "code",
   "execution_count": 22,
   "metadata": {},
   "outputs": [],
   "source": [
    "def replace_frequent_patterns(c, patterns):\n",
    "    num_patterns_inserted = 0\n",
    "    inserted_patterns = []\n",
    "\n",
    "    seq = replace_gaps_and_to_string(copy.deepcopy(c))\n",
    "\n",
    "    for index, sequence in tqdm(enumerate(seq)):\n",
    "        seq_inserted = 0\n",
    "\n",
    "        s = \" \" + sequence + \" \"\n",
    "        if s[0] != \" \":\n",
    "            s = s.ljust(len(s) + 1, \" \")\n",
    "        if s[-1] != \" \":\n",
    "            s = s.rjust(len(s) + 1, \" \")\n",
    "\n",
    "        for pattern in patterns.itertuples():\n",
    "            pat = \" \" + \" \".join(pattern.pattern) + \" \"\n",
    "\n",
    "            if pat[0] != \" \":\n",
    "                pat = pat.ljust(len(pat) + 1, \" \")\n",
    "            if pat[-1] != \" \":\n",
    "                pat = pat.rjust(len(pat) + 1, \" \")\n",
    "\n",
    "            s_old = s\n",
    "            s = s.replace(pat, str(pattern.encoding).center(\n",
    "                len(str(pattern.encoding)) + 2, \" \"))\n",
    "\n",
    "            if not s_old == s:\n",
    "                seq[index] = s\n",
    "\n",
    "                seq_inserted += 1\n",
    "                num_patterns_inserted += 1\n",
    "                inserted_patterns.append(pattern.encoding)\n",
    "\n",
    "        # print(f\"inserted in sequence {index}: {seq_inserted}\")\n",
    "\n",
    "    print(f\"number of patterns inserted: {num_patterns_inserted}\")\n",
    "\n",
    "    return seq\n",
    "\n",
    "\n",
    "def translate_fp_combined_sequences(seq):\n",
    "    for index, sequence in tqdm(enumerate(seq)):\n",
    "        if isinstance(sequence, str):\n",
    "            seq[index] = sequence.strip().split(\" \")\n",
    "\n",
    "            for e_index, event in enumerate(seq[index]):\n",
    "                if event.isdigit():\n",
    "                    if patterns.iloc[np.where(patterns.encoding.values == int(event))].aggregated.values[0]:\n",
    "                        seq[index][e_index] = [int(event)]\n",
    "                    else:\n",
    "                        seq[index][e_index] = int(event)\n",
    "                else:\n",
    "                    if len(event) > 1:\n",
    "                        seq[index][e_index] = [e for e in event]\n",
    "                    else:\n",
    "                        seq[index][e_index] = event\n",
    "        else:\n",
    "            print(f'[ERROR] detected other type: {type(sequence)}')\n",
    "    return seq\n",
    "\n",
    "def replace_gaps_and_to_string(c):\n",
    "    seqs = copy.deepcopy(c)\n",
    "    for s_index, sequence in enumerate(seqs):\n",
    "        for e_index, event in enumerate(sequence):\n",
    "            if isinstance(event, list):\n",
    "                s_temp = [e if e != \"-\" else 'x' for e in event]\n",
    "                s_temp.sort()\n",
    "                seqs[s_index][e_index] = \"\".join(s_temp)\n",
    "\n",
    "        seqs[s_index] = \" \".join(seqs[s_index])\n",
    "    return seqs\n",
    "\n",
    "def split_long_sequences(sequences):\n",
    "    segmented_sequences = []\n",
    "\n",
    "    for s_index, sequence in enumerate(sequences):\n",
    "        # print(type(sequence))\n",
    "        # print(sequence[0:100])\n",
    "        # if len(sequence) > FIRST_PERCENTILE:\n",
    "        #     for i in range(0, math.ceil(len(sequence) / SEGMENT_SIZE)):\n",
    "        #         segmented_sequences.append(\n",
    "        #             sequence[i * SEGMENT_SIZE: (i + 1) * SEGMENT_SIZE - 1])\n",
    "        #     sequence_to_split_pattern_lookup.append(s_index +\n",
    "        #                                             math.ceil(len(sequence) / SEGMENT_SIZE) - 1)\n",
    "        # else:\n",
    "            segmented_sequences.append(sequence)\n",
    "            sequence_to_split_pattern_lookup.append(s_index)\n",
    "\n",
    "        # Transform (segmented) list sequences to (segmented) string sequences\n",
    "    return replace_gaps_and_to_string(segmented_sequences)\n"
   ]
  },
  {
   "cell_type": "code",
   "execution_count": 8,
   "metadata": {},
   "outputs": [
    {
     "data": {
      "text/plain": [
       "[-1,\n",
       " 0.1111111111111111,\n",
       " 0.16666666666666666,\n",
       " 0.25,\n",
       " 0.2857142857142857,\n",
       " 0.3333333333333333,\n",
       " 0.6,\n",
       " 0.6666666666666666,\n",
       " 0.8888888888888888]"
      ]
     },
     "execution_count": 8,
     "metadata": {},
     "output_type": "execute_result"
    }
   ],
   "source": [
    "get_all_levels(dend)\n"
   ]
  },
  {
   "cell_type": "code",
   "execution_count": 18,
   "metadata": {},
   "outputs": [
    {
     "name": "stdout",
     "output_type": "stream",
     "text": [
      "                 pattern  sup\n",
      "0              [a, b, a]    2\n",
      "1        [d, b, b, d, d]    2\n",
      "2  [a, a, a, a, a, a, a]    2\n",
      "3  [c, c, c, c, c, c, c]    3\n"
     ]
    }
   ],
   "source": [
    "# level_events = find_clustered_events(-1)\n",
    "level_events = find_clustered_events(0.16666666666666666)\n",
    "# level_events = find_clustered_events(0.9958677685950413)\n",
    "min_sup = 0.2\n",
    "c = [seq['sequence'] for seq in level_events]\n",
    "split_sequences = split_long_sequences(copy.deepcopy(c))\n",
    "\n",
    "# print(split_sequences)\n",
    "\n",
    "patterns = get_frequent_patterns(\n",
    "    input=split_sequences, min_sup=min_sup)\n",
    "\n",
    "print(patterns)\n"
   ]
  },
  {
   "cell_type": "code",
   "execution_count": 17,
   "metadata": {},
   "outputs": [
    {
     "name": "stdout",
     "output_type": "stream",
     "text": [
      "Empty DataFrame\n",
      "Columns: [pattern, sup]\n",
      "Index: []\n",
      "0\n"
     ]
    }
   ],
   "source": [
    "pat = patterns[patterns['pattern'].apply(lambda x: len(x) > 1)]\n",
    "print(pat)\n",
    "print(len(pat))\n"
   ]
  },
  {
   "cell_type": "code",
   "execution_count": 25,
   "metadata": {},
   "outputs": [
    {
     "name": "stderr",
     "output_type": "stream",
     "text": [
      "9it [00:00, 1915.69it/s]\n"
     ]
    },
    {
     "name": "stdout",
     "output_type": "stream",
     "text": [
      "number of patterns inserted: 9\n"
     ]
    },
    {
     "name": "stderr",
     "output_type": "stream",
     "text": [
      "9it [00:00, 1805.47it/s]"
     ]
    },
    {
     "name": "stdout",
     "output_type": "stream",
     "text": [
      "[{'file': 'output/stays-test/alignment-0.1111111111111111-0.fasta', 'stays': [20212, 20211], 'sequence': [300, ['c', 'g'], 'c'], 'alignment': [{'hadm_id': '20212', 'sequence': 'cccccccgc'}, {'hadm_id': '20211', 'sequence': 'ccccccccc'}], 'aggregated': True}, {'file': 'output/stays-test/alignment-0.1111111111111111-1.fasta', 'stays': [20201, 20202], 'sequence': [301, ['a', 'y'], 'a'], 'alignment': [{'hadm_id': '20201', 'sequence': 'aaaaaaaaa'}, {'hadm_id': '20202', 'sequence': 'aaaaaaaya'}], 'aggregated': True}, {'stays': [20209], 'sequence': [302, 'd'], 'aggregated': False}, {'stays': [20210], 'sequence': [303], 'aggregated': False}, {'file': 'output/stays-test/alignment-0.16666666666666666-2.fasta', 'stays': [20208, 20207], 'sequence': [302, ['d', 'x']], 'alignment': [{'hadm_id': '20208', 'sequence': 'dbbdd-'}, {'hadm_id': '20207', 'sequence': 'dbbddd'}], 'aggregated': True}, {'stays': [20204], 'sequence': [300, 'g', 'c'], 'aggregated': False}, {'stays': [20203], 'sequence': [303, 'a'], 'aggregated': False}, {'stays': [20205], 'sequence': [300, 'c', 'c'], 'aggregated': False}, {'stays': [20206], 'sequence': [301, 'y', 'a'], 'aggregated': False}]\n"
     ]
    },
    {
     "name": "stderr",
     "output_type": "stream",
     "text": [
      "\n"
     ]
    }
   ],
   "source": [
    "if len(patterns) > 0:\n",
    "    patterns = patterns[patterns['pattern'].apply(\n",
    "        lambda x: len(x) > 1)]\n",
    "    if (len(patterns) > 0):\n",
    "        patterns['encoding'] = range(300, len(patterns) + 300)\n",
    "        patterns['aggregated'] = patterns.apply(lambda row: any(\n",
    "            len(i.strip()) > 1 for i in row.pattern), axis=1)\n",
    "        patterns['seq_length'] = patterns.apply(\n",
    "            lambda row: len(row.pattern), axis=1)\n",
    "        patterns = patterns.sort_values(\n",
    "            by=['seq_length', 'sup'], ascending=False)\n",
    "        patterns = patterns.drop(columns=['seq_length'])\n",
    "\n",
    "        # seq = sequence_to_list_of_strings([sequence['sequence']\n",
    "        #                                    for sequence in find_clustered_events(level)])\n",
    "        seq = replace_frequent_patterns(c, patterns)\n",
    "        seq = translate_fp_combined_sequences(seq)\n",
    "\n",
    "        for index, s in enumerate(level_events):\n",
    "            # s['alignment'] = seq[index]\n",
    "            s['sequence'] = seq[index]\n",
    "\n",
    "print(level_events)"
   ]
  },
  {
   "attachments": {},
   "cell_type": "markdown",
   "metadata": {},
   "source": [
    "# Test VGEN vs VMSP"
   ]
  },
  {
   "cell_type": "code",
   "execution_count": 282,
   "metadata": {},
   "outputs": [],
   "source": [
    "def get_frequent_patterns(input: list = [], min_sup: float = 0.4, max_gap: int = 1, max_pat_length=\"\"):\n",
    "    spmf = Spmf(\"VMSP\", input_direct=input,\n",
    "                input_type=\"text\",\n",
    "                output_filename=\"output.txt\", spmf_bin_location_dir=\"/Users/youri/Downloads\",\n",
    "                arguments=[min_sup, max_pat_length, str(max_gap)])\n",
    "    spmf.run()\n",
    "    return spmf.to_pandas_dataframe()\n"
   ]
  },
  {
   "cell_type": "code",
   "execution_count": 283,
   "metadata": {},
   "outputs": [
    {
     "name": "stdout",
     "output_type": "stream",
     "text": [
      "     pattern  sup\n",
      "0         []    5\n",
      "1        [3]    3\n",
      "2        [2]    4\n",
      "3     [1, 1]    3\n",
      "4     [1, 2]    3\n",
      "5  [3, 1, 2]    2\n"
     ]
    }
   ],
   "source": [
    "def get_frequent_patterns(input: list = [], min_sup: float = 0.4, max_gap: int = 1, max_pat_length=\"\"):\n",
    "    spmf = Spmf(\"VGEN\", input_direct=input,\n",
    "                input_type=\"text\",\n",
    "                output_filename=\"output.txt\", spmf_bin_location_dir=\"/Users/youri/Downloads\",\n",
    "                arguments=[min_sup, max_pat_length, str(max_gap), True])\n",
    "    spmf.run()\n",
    "    return spmf.to_pandas_dataframe()\n",
    "\n",
    "patterns = get_frequent_patterns(\n",
    "    input=['1 1 1 1', '1 1 2 3 1 ', '1 1 3 1 2', '3 1 2', '2 2 1'], min_sup=0.3)\n",
    "\n",
    "print(patterns)\n"
   ]
  },
  {
   "cell_type": "code",
   "execution_count": 284,
   "metadata": {},
   "outputs": [
    {
     "name": "stdout",
     "output_type": "stream",
     "text": [
      "     pattern  sup\n",
      "0     [1, 1]    3\n",
      "1  [3, 1, 2]    2\n"
     ]
    }
   ],
   "source": [
    "def get_frequent_patterns(input: list = [], min_sup: float = 0.4, max_gap: int = 1, max_pat_length=\"\"):\n",
    "    spmf = Spmf(\"VMSP\", input_direct=input,\n",
    "                input_type=\"text\",\n",
    "                output_filename=\"output.txt\", spmf_bin_location_dir=\"/Users/youri/Downloads\",\n",
    "                arguments=[min_sup, max_pat_length, str(max_gap), True])\n",
    "    spmf.run()\n",
    "    return spmf.to_pandas_dataframe()\n",
    "\n",
    "\n",
    "patterns = get_frequent_patterns(\n",
    "    input=['1 1 1 1', '1 1 2 3 1 ', '1 1 3 1 2', '3 1 2', '2 2 1'], min_sup=0.3)\n",
    "\n",
    "print(patterns)\n"
   ]
  },
  {
   "cell_type": "code",
   "execution_count": 285,
   "metadata": {},
   "outputs": [
    {
     "name": "stdout",
     "output_type": "stream",
     "text": [
      "  pattern  sup\n",
      "0  [a, a]    3\n"
     ]
    }
   ],
   "source": [
    "patterns = get_frequent_patterns(\n",
    "    input=['a a a a', 'a a b', 'a a c'], min_sup=0.4)\n",
    "\n",
    "print(patterns)\n"
   ]
  },
  {
   "attachments": {},
   "cell_type": "markdown",
   "metadata": {},
   "source": [
    "## Check with test set"
   ]
  },
  {
   "cell_type": "code",
   "execution_count": 286,
   "metadata": {},
   "outputs": [],
   "source": [
    "min_sup_test = 0.5\n",
    "test_seq = [\"a a a a a a a a a\",\n",
    "            \"a b b\",\n",
    "            \"b b b\",\n",
    "            \"d b b d d d\",\n",
    "            \"d b b d d\",\n",
    "            \"c c c c c c c c c\",\n",
    "            ]\n"
   ]
  },
  {
   "cell_type": "code",
   "execution_count": 287,
   "metadata": {},
   "outputs": [
    {
     "name": "stdout",
     "output_type": "stream",
     "text": [
      "  pattern  sup\n",
      "0      []    6\n",
      "1     [b]    4\n"
     ]
    }
   ],
   "source": [
    "def get_frequent_patterns(input: list = [], min_sup: float = 0.4, max_gap: int = 1, max_pat_length=\"\"):\n",
    "    spmf = Spmf(\"VGEN\", input_direct=input,\n",
    "                input_type=\"text\",\n",
    "                output_filename=\"output.txt\", spmf_bin_location_dir=\"/Users/youri/Downloads\",\n",
    "                arguments=[min_sup, max_pat_length, str(max_gap), True])\n",
    "    spmf.run()\n",
    "    return spmf.to_pandas_dataframe()\n",
    "\n",
    "\n",
    "patterns = get_frequent_patterns(input=test_seq, min_sup=min_sup_test)\n",
    "\n",
    "print(patterns)\n"
   ]
  },
  {
   "cell_type": "code",
   "execution_count": 288,
   "metadata": {},
   "outputs": [
    {
     "name": "stdout",
     "output_type": "stream",
     "text": [
      "  pattern  sup\n",
      "0  [b, b]    4\n"
     ]
    }
   ],
   "source": [
    "def get_frequent_patterns(input: list = [], min_sup: float = 0.4, max_gap: int = 1, max_pat_length=\"\"):\n",
    "    spmf = Spmf(\"VMSP\", input_direct=input,\n",
    "                input_type=\"text\",\n",
    "                output_filename=\"output.txt\", spmf_bin_location_dir=\"/Users/youri/Downloads\",\n",
    "                arguments=[min_sup, max_pat_length, str(max_gap), True])\n",
    "    spmf.run()\n",
    "    return spmf.to_pandas_dataframe()\n",
    "\n",
    "\n",
    "patterns = get_frequent_patterns(input=test_seq, min_sup=min_sup_test)\n",
    "\n",
    "print(patterns)\n"
   ]
  },
  {
   "cell_type": "code",
   "execution_count": null,
   "metadata": {},
   "outputs": [],
   "source": []
  }
 ],
 "metadata": {
  "kernelspec": {
   "display_name": "backend-F9edf9D0",
   "language": "python",
   "name": "python3"
  },
  "language_info": {
   "codemirror_mode": {
    "name": "ipython",
    "version": 3
   },
   "file_extension": ".py",
   "mimetype": "text/x-python",
   "name": "python",
   "nbconvert_exporter": "python",
   "pygments_lexer": "ipython3",
   "version": "3.9.13"
  },
  "orig_nbformat": 4,
  "vscode": {
   "interpreter": {
    "hash": "8aa693308f7ebf26aebd877d93b16497504fa2934292b1fef41da166959c0225"
   }
  }
 },
 "nbformat": 4,
 "nbformat_minor": 2
}
