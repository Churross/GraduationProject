{
 "cells": [
  {
   "attachments": {},
   "cell_type": "markdown",
   "metadata": {},
   "source": [
    "# Clustering validation"
   ]
  },
  {
   "attachments": {},
   "cell_type": "markdown",
   "metadata": {},
   "source": [
    "## General utilities"
   ]
  },
  {
   "cell_type": "code",
   "execution_count": null,
   "metadata": {},
   "outputs": [],
   "source": [
    "import io\n",
    "import json\n",
    "import pickle\n",
    "import matplotlib\n",
    "import math\n",
    "import numpy as np\n",
    "import pandas as pd\n",
    "import scipy.cluster.hierarchy as shc\n",
    "from matplotlib.backends.backend_agg import FigureCanvasAgg as FigureCanvas\n",
    "from tqdm import tqdm\n",
    "import os\n",
    "import copy\n"
   ]
  },
  {
   "cell_type": "code",
   "execution_count": null,
   "metadata": {},
   "outputs": [],
   "source": [
    "start_index = 0\n",
    "number_of_stays = 'test'\n",
    "stay_length = 20\n",
    "display_matrix = True\n",
    "output_path = \"../scripts/output/\"\n",
    "run_test_data = False\n"
   ]
  },
  {
   "cell_type": "code",
   "execution_count": null,
   "metadata": {},
   "outputs": [],
   "source": [
    "def save_as_pickle(data, file_name, path=output_path):\n",
    "    file = open(path + file_name, 'wb')\n",
    "    pickle.dump(data, file)\n",
    "    file.close()\n",
    "\n",
    "\n",
    "def get_pickle(file_name, path=output_path):\n",
    "    return pickle.load(open(path + file_name, 'rb'))\n",
    "\n",
    "\n",
    "def sequence_to_fasta(sequences: list, file_name, path=output_path):\n",
    "    file = open(path + file_name + '.fa', 'w')\n",
    "    for i in range(len(sequences)):\n",
    "        file.write(f\">sequence_{i}\\n{sequences[i]}\\n\")\n",
    "    file.close()\n",
    "\n",
    "\n",
    "def get_sequence_distance_list(u, v):\n",
    "    index_u, index_v = stays.index(u[0]), stays.index(v[0])\n",
    "    return dist_matrix[min(index_u, index_v)][max(index_u, index_v) - min(index_u, index_v)]\n",
    "\n",
    "\n",
    "def get_sequence_distance_matrix(u, v):\n",
    "    index_u, index_v = stays.index(u[0]), stays.index(v[0])\n",
    "    return dist_matrix[index_u][index_v]\n"
   ]
  },
  {
   "attachments": {},
   "cell_type": "markdown",
   "metadata": {},
   "source": [
    "## Calculate the data again to check"
   ]
  },
  {
   "cell_type": "code",
   "execution_count": null,
   "metadata": {},
   "outputs": [],
   "source": [
    "print(\"[INFO] Loading data\")\n",
    "\n",
    "data = get_pickle('data_test')\n",
    "dist_data = get_pickle(\"distance_test_data\")\n"
   ]
  },
  {
   "cell_type": "code",
   "execution_count": null,
   "metadata": {},
   "outputs": [],
   "source": [
    "file_suffix = '_' + str(number_of_stays)\n",
    "\n",
    "print(f\"[INFO] Number of sequences: {number_of_stays}\")\n",
    "\n",
    "print(\"[INFO] Using complete dist data\")\n",
    "dist_matrix = get_pickle(\"distance_matrix_test\")\n",
    "\n",
    "stays = list(dist_data['hadm_id'].unique())\n",
    "\n",
    "print(\"[INFO] Data loaded\")\n",
    "\n",
    "clust_data = data.drop_duplicates(subset=['hadm_id'])\n",
    "\n",
    "clust_data = clust_data.drop(columns=['event_id', 'subject_id', 'transfer_id', 'eventtype',\n",
    "                                      'careunit', 'intime', 'outtime', 'charttime', 'event',\n",
    "                                      'value', 'valuenum', 'valueuom',\n",
    "                                      'label', 'category', 'param_type',\n",
    "                                      'value_categorical',\n",
    "                                      'event_encoded'])\n",
    "\n",
    "# links = shc.linkage(clust_data, metric=get_sequence_distance_list)"
   ]
  },
  {
   "attachments": {},
   "cell_type": "markdown",
   "metadata": {},
   "source": [
    "### Hierarchical clustering"
   ]
  },
  {
   "cell_type": "code",
   "execution_count": null,
   "metadata": {},
   "outputs": [],
   "source": [
    "links = shc.linkage(clust_data, metric=get_sequence_distance_matrix)\n",
    "dend = shc.dendrogram(links, labels=stays, leaf_rotation=-90)"
   ]
  },
  {
   "cell_type": "code",
   "execution_count": null,
   "metadata": {},
   "outputs": [],
   "source": [
    "print(\"Dend info\")\n",
    "print(dend['ivl'])\n",
    "print(stays)\n"
   ]
  },
  {
   "attachments": {},
   "cell_type": "markdown",
   "metadata": {},
   "source": [
    "## Calculate clusters from dendrogram"
   ]
  },
  {
   "cell_type": "code",
   "execution_count": null,
   "metadata": {},
   "outputs": [],
   "source": [
    "print('[INFO] Loading links')\n",
    "links = get_pickle('links' + file_suffix)\n",
    "print('[INFO] Loading clusters')\n",
    "clusters = get_pickle('alignments' + file_suffix)\n",
    "print('[INFO] Loading stays')\n",
    "stays = get_pickle('stays' + file_suffix)\n",
    "print('[INFO] Loading events')\n",
    "events = get_pickle('events' + file_suffix)\n",
    "print('[INFO] Data loaded')\n",
    "dend = shc.dendrogram(links, labels=stays, leaf_rotation=-90)\n"
   ]
  },
  {
   "cell_type": "code",
   "execution_count": null,
   "metadata": {},
   "outputs": [],
   "source": [
    "print(\"Dend info\")\n",
    "print(dend['ivl'])\n",
    "print(stays)\n"
   ]
  },
  {
   "cell_type": "code",
   "execution_count": null,
   "metadata": {},
   "outputs": [],
   "source": [
    "def get_all_levels(dend):\n",
    "    branch_depths = [-1]\n",
    "    branch_depths.extend(list(set([d[1] for d in dend['dcoord']])))\n",
    "    branch_depths.sort()\n",
    "    return branch_depths\n",
    "\n",
    "\n",
    "def sort_by_indexes(list_data, indexes, reverse=False):\n",
    "    return [val for (_, val) in sorted(zip(indexes, list_data), key=lambda x:\n",
    "            x[0], reverse=reverse)]\n"
   ]
  },
  {
   "cell_type": "code",
   "execution_count": null,
   "metadata": {},
   "outputs": [],
   "source": [
    "levels = get_all_levels(dend)\n",
    "print(levels)"
   ]
  },
  {
   "cell_type": "code",
   "execution_count": null,
   "metadata": {},
   "outputs": [],
   "source": [
    "indices = [dend['ivl'].index(i) for i in stays]\n",
    "print(indices)"
   ]
  },
  {
   "cell_type": "code",
   "execution_count": null,
   "metadata": {},
   "outputs": [],
   "source": [
    "sequences = []\n",
    "for stay in stays:\n",
    "    e = events[events['hadm_id'] == stay]\n",
    "    sequences.append(''.join(list(e['event_encoded'])))\n",
    "print(sequences)\n"
   ]
  },
  {
   "cell_type": "code",
   "execution_count": null,
   "metadata": {},
   "outputs": [],
   "source": [
    "\n",
    "def get_clusters_by_level(level):\n",
    "    return list(shc.fcluster(links, t=level, criterion=\"distance\"))\n"
   ]
  },
  {
   "cell_type": "code",
   "execution_count": null,
   "metadata": {},
   "outputs": [],
   "source": [
    "def get_available_levels():\n",
    "    print(f\"stays: {dend['ivl']}\")\n",
    "    print(f\"og: {stays}\")\n",
    "    \n",
    "    dend_data = {\n",
    "        'sequences': [int(i) for i in dend['ivl']],\n",
    "        'levels': []\n",
    "    }\n",
    "    for index, level in enumerate(get_all_levels(dend)):\n",
    "        dend_data['levels'].append({\n",
    "            'level': level,\n",
    "            'cluster': [int(i) for i in get_clusters_by_level(level)]\n",
    "        })\n",
    "\n",
    "    return dend_data\n"
   ]
  },
  {
   "cell_type": "code",
   "execution_count": null,
   "metadata": {},
   "outputs": [],
   "source": [
    "cluster_level = get_clusters_by_level(0.1111111111111111)\n",
    "unique_levels = list(set(cluster_level))\n",
    "\n",
    "for count, level in enumerate(unique_levels):\n",
    "    cluster = [i for i, x in enumerate(cluster_level) if x == level]\n",
    "    print(f\"clust: {cluster}\")\n"
   ]
  },
  {
   "cell_type": "code",
   "execution_count": null,
   "metadata": {},
   "outputs": [],
   "source": [
    "unique_levels = list(set(clusters))\n",
    "\n",
    "for count, level in enumerate(unique_levels):\n",
    "    cluster = [i for i, x in enumerate(clusters) if x == level]\n",
    "    print(f\"clust: {cluster}\")\n"
   ]
  },
  {
   "cell_type": "code",
   "execution_count": null,
   "metadata": {},
   "outputs": [],
   "source": [
    "dend['dcoord']"
   ]
  },
  {
   "cell_type": "code",
   "execution_count": null,
   "metadata": {},
   "outputs": [],
   "source": [
    "branch_depths = [-1]\n",
    "for d in dend['dcoord']:\n",
    "    branch_depths.append(d[1])\n",
    "branch_depths = list(dict.fromkeys(branch_depths))\n",
    "branch_depths.sort()\n",
    "\n",
    "print(branch_depths)"
   ]
  },
  {
   "cell_type": "code",
   "execution_count": null,
   "metadata": {},
   "outputs": [],
   "source": [
    "sequence_ids = [int(stays[i]) for i in cluster]\n"
   ]
  },
  {
   "cell_type": "code",
   "execution_count": null,
   "metadata": {},
   "outputs": [],
   "source": [
    "dend"
   ]
  },
  {
   "cell_type": "code",
   "execution_count": null,
   "metadata": {},
   "outputs": [],
   "source": []
  }
 ],
 "metadata": {
  "kernelspec": {
   "display_name": "backend-F9edf9D0",
   "language": "python",
   "name": "python3"
  },
  "language_info": {
   "codemirror_mode": {
    "name": "ipython",
    "version": 3
   },
   "file_extension": ".py",
   "mimetype": "text/x-python",
   "name": "python",
   "nbconvert_exporter": "python",
   "pygments_lexer": "ipython3",
   "version": "3.9.13"
  },
  "orig_nbformat": 4,
  "vscode": {
   "interpreter": {
    "hash": "8aa693308f7ebf26aebd877d93b16497504fa2934292b1fef41da166959c0225"
   }
  }
 },
 "nbformat": 4,
 "nbformat_minor": 2
}
